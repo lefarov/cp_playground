{
 "cells": [
  {
   "cell_type": "code",
   "execution_count": 32,
   "id": "initial_id",
   "metadata": {
    "collapsed": true,
    "ExecuteTime": {
     "end_time": "2024-03-08T18:40:43.392388Z",
     "start_time": "2024-03-08T18:40:43.382942Z"
    }
   },
   "outputs": [],
   "source": [
    "from typing import List\n",
    "# Write any import statements here\n",
    "from collections import defaultdict, deque\n",
    "\n",
    "\n",
    "def getSecondsRequired(R: int, C: int, G: List[List[str]]) -> int:\n",
    "    # Write your code here\n",
    "\n",
    "    portals = defaultdict(list)\n",
    "    for i, row in enumerate(G):\n",
    "        for j, square in enumerate(row):\n",
    "            if square not in {\"E\", \"#\", \".\"}:\n",
    "                portals[square].append((i, j))\n",
    "\n",
    "    # BFS\n",
    "    visited_squares = set()\n",
    "    queue = deque()\n",
    "    queue.append((portals[\"S\"][0], 0))\n",
    "\n",
    "    while queue:\n",
    "        (ci, cj), path = queue.popleft()\n",
    "        visited_squares.add((ci, cj))\n",
    "\n",
    "        if G[ci][cj] == \"E\":\n",
    "            return path\n",
    "\n",
    "        for ni, nj in getNeighbors(ci, cj, R, C):\n",
    "            if (ni, nj) not in visited_squares:\n",
    "                if G[ni][nj] != \"#\":\n",
    "                    queue.append(((ni, nj), path + 1))\n",
    "\n",
    "        for pi, pj in portals[G[ci][cj]]:\n",
    "            if (pi, pj) not in visited_squares:\n",
    "                queue.append(((pi, pj), path + 1))\n",
    "\n",
    "    return -1\n",
    "\n",
    "\n",
    "def getNeighbors(i, j, height, width):\n",
    "    return [\n",
    "        (max(i - 1, 0), j),\n",
    "        (min(i + 1, height - 1), j),\n",
    "        (i, max(j - 1, 0)),\n",
    "        (i, min(j + 1, width - 1))\n",
    "    ]"
   ]
  },
  {
   "cell_type": "code",
   "outputs": [],
   "source": [
    "from typing import List\n",
    "from collections import defaultdict, deque\n",
    "\n",
    "def getSecondsRequired(R: int, C: int, G: List[List[str]]) -> int:\n",
    "    portals = defaultdict(list)\n",
    "    start = None\n",
    "    for i, row in enumerate(G):\n",
    "        for j, square in enumerate(row):\n",
    "            if square == \"S\":\n",
    "                start = (i, j)\n",
    "            elif square.islower():\n",
    "                portals[square].append((i, j))\n",
    "\n",
    "    visited_squares = set()\n",
    "    visited_portals = set()\n",
    "    queue = deque()\n",
    "    queue.append((start, 0))\n",
    "\n",
    "    while queue:\n",
    "        (ci, cj), path = queue.popleft()\n",
    "        if (ci, cj) in visited_squares:\n",
    "            continue\n",
    "\n",
    "        visited_squares.add((ci, cj))\n",
    "\n",
    "        if G[ci][cj] == \"E\":\n",
    "            return path\n",
    "\n",
    "        # Check all 4 directions\n",
    "        for di, dj in [(-1, 0), (1, 0), (0, -1), (0, 1)]:\n",
    "            ni, nj = ci + di, cj + dj\n",
    "            if 0 <= ni < R and 0 <= nj < C and G[ni][nj] != \"#\" and (ni, nj) not in visited_squares:\n",
    "                queue.append(((ni, nj), path + 1))\n",
    "\n",
    "        # Check portals\n",
    "        if G[ci][cj].islower() and G[ci][cj] not in visited_portals:\n",
    "            visited_portals.add(G[ci][cj])\n",
    "            for pi, pj in portals[G[ci][cj]]:\n",
    "                if (pi, pj) not in visited_squares:\n",
    "                    queue.append(((pi, pj), path + 1))\n",
    "\n",
    "    return -1"
   ],
   "metadata": {
    "collapsed": false,
    "ExecuteTime": {
     "end_time": "2024-03-08T18:44:06.796943Z",
     "start_time": "2024-03-08T18:44:06.788244Z"
    }
   },
   "id": "1803a88c741ebd5e",
   "execution_count": 35
  },
  {
   "cell_type": "code",
   "outputs": [
    {
     "name": "stdout",
     "output_type": "stream",
     "text": [
      "CPU times: user 40 µs, sys: 3 µs, total: 43 µs\n",
      "Wall time: 47.2 µs\n"
     ]
    },
    {
     "data": {
      "text/plain": "4"
     },
     "execution_count": 39,
     "metadata": {},
     "output_type": "execute_result"
    }
   ],
   "source": [
    "%%time\n",
    "getSecondsRequired(3, 4, [[\"a\", \"S\", \".\", \"b\"], [\"#\", \"#\", \"#\", \"#\"], [\"E\", \"b\", \".\", \"a\"]])"
   ],
   "metadata": {
    "collapsed": false,
    "ExecuteTime": {
     "end_time": "2024-03-08T18:44:13.881047Z",
     "start_time": "2024-03-08T18:44:13.874042Z"
    }
   },
   "id": "e6cdf0c8bae2db32",
   "execution_count": 39
  },
  {
   "cell_type": "code",
   "outputs": [],
   "source": [
    "def getMaxVisitableWebpages(N: int, L: List[int]) -> int:\n",
    "    # Write your code here\n",
    "    #     *\n",
    "    # [2, 4, 2, 2, 3]\n",
    "    # [0, 0, 0, 3, 0]\n",
    "    #     *\n",
    "    # [\n",
    "\n",
    "    subsolutions = [0] * N\n",
    "    for i in range(N):\n",
    "        if subsolutions[i] != 0:\n",
    "            continue\n",
    "\n",
    "        current_session = [i]\n",
    "        j = L[i] - 1\n",
    "        while True:\n",
    "            if j in current_session:\n",
    "                ind_in_session = current_session.index(j)\n",
    "                for k in range(ind_in_session, len(current_session)):\n",
    "                    subsolutions[current_session[k]] = len(current_session) - ind_in_session\n",
    "\n",
    "                for k in range(ind_in_session):\n",
    "                    subsolutions[current_session[k]] = len(current_session) - k\n",
    "\n",
    "                break\n",
    "\n",
    "            if subsolutions[j] != 0:\n",
    "                for k, pos in enumerate(current_session[::-1]):\n",
    "                    subsolutions[pos] = k + 1 + subsolutions[j]\n",
    "                break\n",
    "\n",
    "            current_session.append(j)\n",
    "            j = L[j] - 1\n",
    "\n",
    "    return max(subsolutions)"
   ],
   "metadata": {
    "collapsed": false,
    "ExecuteTime": {
     "end_time": "2024-03-09T18:36:39.266712Z",
     "start_time": "2024-03-09T18:36:39.259718Z"
    }
   },
   "id": "3f51106228a5ca43",
   "execution_count": 40
  },
  {
   "cell_type": "code",
   "outputs": [
    {
     "name": "stdout",
     "output_type": "stream",
     "text": [
      "CPU times: user 10 µs, sys: 1 µs, total: 11 µs\n",
      "Wall time: 13.8 µs\n"
     ]
    },
    {
     "data": {
      "text/plain": "4"
     },
     "execution_count": 41,
     "metadata": {},
     "output_type": "execute_result"
    }
   ],
   "source": [
    "%%time\n",
    "getMaxVisitableWebpages(4, [4, 1, 2, 1])"
   ],
   "metadata": {
    "collapsed": false,
    "ExecuteTime": {
     "end_time": "2024-03-09T18:36:51.328675Z",
     "start_time": "2024-03-09T18:36:51.322818Z"
    }
   },
   "id": "b6bebd8949f6ef78",
   "execution_count": 41
  },
  {
   "cell_type": "code",
   "outputs": [],
   "source": [],
   "metadata": {
    "collapsed": false
   },
   "id": "de5e8fcfa927d131"
  }
 ],
 "metadata": {
  "kernelspec": {
   "display_name": "Python 3",
   "language": "python",
   "name": "python3"
  },
  "language_info": {
   "codemirror_mode": {
    "name": "ipython",
    "version": 2
   },
   "file_extension": ".py",
   "mimetype": "text/x-python",
   "name": "python",
   "nbconvert_exporter": "python",
   "pygments_lexer": "ipython2",
   "version": "2.7.6"
  }
 },
 "nbformat": 4,
 "nbformat_minor": 5
}
